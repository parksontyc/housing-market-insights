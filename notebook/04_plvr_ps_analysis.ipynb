{
 "cells": [
  {
   "cell_type": "markdown",
   "id": "4fea31c0",
   "metadata": {},
   "source": [
    "## 預售屋市場檢視"
   ]
  },
  {
   "cell_type": "code",
   "execution_count": null,
   "id": "785a9021",
   "metadata": {},
   "outputs": [],
   "source": [
    "import os\n",
    "import re\n",
    "from typing import Generator, List, Any, Literal\n",
    "import pandas as pd\n",
    "from fuzzywuzzy import fuzz, process\n",
    "from tqdm import tqdm\n",
    "from IPython.display import display\n",
    "import warnings\n",
    "warnings.filterwarnings('ignore')\n",
    "\n",
    "import sys\n",
    "from pathlib import Path\n",
    "project_root = Path.cwd().parent  # 找出根目錄：Path.cwd()找出現在所在目錄(/run).parent(上一層是notebook).parent(再上層一層business_district_discovery)\n",
    "print(project_root)\n",
    "sys.path.append(str(project_root))"
   ]
  },
  {
   "cell_type": "code",
   "execution_count": null,
   "id": "8f0f6389",
   "metadata": {},
   "outputs": [],
   "source": [
    "from utils.helper_function import csv_extractor  # 取得及載入資料"
   ]
  },
  {
   "cell_type": "markdown",
   "id": "ba19e16e",
   "metadata": {},
   "source": [
    "### 讀取資料"
   ]
  },
  {
   "cell_type": "code",
   "execution_count": null,
   "id": "8961785d",
   "metadata": {},
   "outputs": [],
   "source": [
    "# community_df path\n",
    "comm_dir = r\"C:\\pylabs\\housing-market-insights\\data\\lvr_moi\\ps_community\\processed\"\n",
    "comm_fn = \"ps_community_processed.csv\"\n",
    "comm_path = os.path.join(comm_dir,  comm_fn)\n",
    "\n",
    "# transaction_df path\n",
    "transaction_dir = r\"C:\\pylabs\\housing-market-insights\\data\\lvr_moi\\ps_transaction\\processed\"\n",
    "transaction_fn = \"ps_transaction_processed.csv\"\n",
    "transaction_path = os.path.join(transaction_dir,  transaction_fn)"
   ]
  },
  {
   "cell_type": "code",
   "execution_count": null,
   "id": "2b0ffd00",
   "metadata": {},
   "outputs": [],
   "source": [
    "# 載入預售屋社區csv\n",
    "comm_extracted =csv_extractor(comm_path)\n",
    "print(f\" 預售社區逐筆交易資料載入成功:{comm_extracted.shape[0]}筆，合計{comm_extracted.shape[1]}欄位 \\n 記憶體使用: {comm_extracted.memory_usage(deep=True).sum() / 1024**2:.2f} MB\")\n",
    "\n",
    "# 載入預售交易csv\n",
    "transaction_extracted =csv_extractor(transaction_path)\n",
    "print(f\" 預售交易逐筆交易資料載入成功: {transaction_extracted.shape[0]}筆，合探{transaction_extracted.shape[1]}欄位 \\n 記憶體使用: {transaction_extracted.memory_usage(deep=True).sum() / 1024**2:.2f} MB\")\n"
   ]
  },
  {
   "cell_type": "code",
   "execution_count": null,
   "id": "9a7e9011",
   "metadata": {},
   "outputs": [],
   "source": [
    "community_df = comm_extracted.copy()\n",
    "transaction_df = transaction_extracted.copy()"
   ]
  },
  {
   "cell_type": "code",
   "execution_count": null,
   "id": "368134d6",
   "metadata": {},
   "outputs": [],
   "source": [
    "display(community_df.columns)\n",
    "display(transaction_df.columns)"
   ]
  },
  {
   "cell_type": "code",
   "execution_count": null,
   "id": "15209d71",
   "metadata": {},
   "outputs": [],
   "source": [
    "# === 2. 建立複合鍵 ===\n",
    "print(\"\\n 建立複合鍵...\")\n",
    "\n",
    "def create_composite_key(df, city_col='縣市', district_col='行政區', community_col='社區名稱'):\n",
    "    \"\"\"建立複合索引鍵\"\"\"\n",
    "    df = df.copy()\n",
    "    df['複合鍵'] = (df[city_col].fillna('').astype(str) + '_' + \n",
    "                    df[district_col].fillna('').astype(str) + '_' + \n",
    "                    df[community_col].fillna('').astype(str))\n",
    "    return df\n",
    "\n",
    "\n",
    "community_with_key = create_composite_key(community_df)\n",
    "transaction_with_key = create_composite_key(transaction_df)\n",
    "\n",
    "# 取得唯一複合鍵\n",
    "community_keys = community_with_key['複合鍵'].unique()\n",
    "transaction_keys = transaction_with_key['複合鍵'].unique()\n",
    "\n",
    "print(f\"唯一社區複合鍵: {len(community_keys):,} 個\")\n",
    "print(f\"唯一交易複合鍵: {len(transaction_keys):,} 個\")"
   ]
  },
  {
   "cell_type": "code",
   "execution_count": null,
   "id": "2e11e519",
   "metadata": {},
   "outputs": [],
   "source": [
    "# === 3. 建立社區資料查找表 ===\n",
    "print(\"\\n 建立社區資料查找表...\")\n",
    "\n",
    "# 移除重複的社區資料，保留第一筆\n",
    "community_unique = community_with_key.drop_duplicates(subset=['複合鍵'])\n",
    "community_lookup = dict(zip(\n",
    "    community_unique['複合鍵'],\n",
    "    community_unique[['戶數', '建設公司']].to_dict('records')\n",
    "))\n",
    "\n",
    "print(f\" 建立 {len(community_lookup):,} 個社區查找記錄\")"
   ]
  },
  {
   "cell_type": "code",
   "execution_count": null,
   "id": "fb7c48a6",
   "metadata": {},
   "outputs": [],
   "source": [
    "# === 4. 多階段比對 ===\n",
    "print(\"\\n開始多階段比對...\")\n",
    "\n",
    "def normalize_key(key):\n",
    "    \"\"\"標準化複合鍵\"\"\"\n",
    "    if pd.isna(key) or key == '':\n",
    "        return key\n",
    "    normalized = str(key).lower().strip()\n",
    "    # 移除特殊符號但保留底線分隔符\n",
    "    normalized = re.sub(r'[^\\w\\u4e00-\\u9fff_]', '', normalized)\n",
    "    return normalized\n",
    "\n",
    "def extract_community_name(composite_key):\n",
    "    \"\"\"提取社區名稱\"\"\"\n",
    "    if pd.isna(composite_key):\n",
    "        return ''\n",
    "    parts = str(composite_key).split('_')\n",
    "    return parts[2] if len(parts) >= 3 else ''\n",
    "\n",
    "# 初始化比對結果\n",
    "final_mapping = {}\n",
    "stage_stats = {\n",
    "    'stage1_exact': 0,\n",
    "    'stage2_normalized': 0,\n",
    "    'stage3_community': 0\n",
    "}\n",
    "\n",
    "unmatched_keys = list(transaction_keys)\n"
   ]
  },
  {
   "cell_type": "code",
   "execution_count": null,
   "id": "00151cea",
   "metadata": {},
   "outputs": [],
   "source": [
    "    # 第1階段：完全匹配\n",
    "    print(\"   🎯 第1階段：完全匹配\")\n",
    "    matched_in_stage1 = []\n",
    "    for key in unmatched_keys:\n",
    "        if key in community_lookup:\n",
    "            final_mapping[key] = key\n",
    "            stage_stats['stage1_exact'] += 1\n",
    "            matched_in_stage1.append(key)\n",
    "    \n",
    "    unmatched_keys = [k for k in unmatched_keys if k not in matched_in_stage1]\n",
    "    print(f\"      ✅ 匹配: {stage_stats['stage1_exact']:,} 個\")\n",
    "    "
   ]
  },
  {
   "cell_type": "code",
   "execution_count": null,
   "id": "e6b6ad1c",
   "metadata": {},
   "outputs": [],
   "source": [
    "# 第2階段：標準化匹配\n",
    "print(\"   🔧 第2階段：標準化匹配\")\n",
    "community_normalized_map = {}\n",
    "for key in community_keys:\n",
    "    normalized = normalize_key(key)\n",
    "    if normalized not in community_normalized_map:\n",
    "        community_normalized_map[normalized] = key\n",
    "\n",
    "matched_in_stage2 = []\n",
    "for key in unmatched_keys:\n",
    "    normalized = normalize_key(key)\n",
    "    if normalized in community_normalized_map:\n",
    "        matched_key = community_normalized_map[normalized]\n",
    "        final_mapping[key] = matched_key\n",
    "        stage_stats['stage2_normalized'] += 1\n",
    "        matched_in_stage2.append(key)\n",
    "\n",
    "unmatched_keys = [k for k in unmatched_keys if k not in matched_in_stage2]\n",
    "print(f\"      ✅ 匹配: {stage_stats['stage2_normalized']:,} 個\")"
   ]
  },
  {
   "cell_type": "code",
   "execution_count": null,
   "id": "77b1537e",
   "metadata": {},
   "outputs": [],
   "source": [
    "# 第3階段：社區名稱單獨比對\n",
    "print(\"   🏘️ 第3階段：社區名稱匹配\")\n",
    "community_name_map = {}\n",
    "for key in community_keys:\n",
    "    community_name = extract_community_name(key)\n",
    "    if community_name and community_name.strip():\n",
    "        if community_name not in community_name_map:\n",
    "            community_name_map[community_name] = []\n",
    "        community_name_map[community_name].append(key)\n",
    "\n",
    "for key in unmatched_keys:\n",
    "    community_name = extract_community_name(key)\n",
    "    if community_name and community_name in community_name_map:\n",
    "        # 選擇第一個匹配的候選\n",
    "        matched_key = community_name_map[community_name][0]\n",
    "        final_mapping[key] = matched_key\n",
    "        stage_stats['stage3_community'] += 1\n",
    "\n",
    "print(f\"      ✅ 匹配: {stage_stats['stage3_community']:,} 個\")"
   ]
  },
  {
   "cell_type": "code",
   "execution_count": null,
   "id": "329f3ddb",
   "metadata": {},
   "outputs": [],
   "source": [
    "# === 5. 合併資料 ===\n",
    "print(\"\\n🔗 合併資料...\")\n",
    "\n",
    "def get_community_info(composite_key):\n",
    "    \"\"\"根據複合鍵取得社區資訊\"\"\"\n",
    "    matched_key = final_mapping.get(composite_key)\n",
    "    if matched_key and matched_key in community_lookup:\n",
    "        return community_lookup[matched_key]\n",
    "    return {'戶數': None, '建設公司': None}\n",
    "\n",
    "# 應用社區資訊到交易資料\n",
    "community_info_list = transaction_with_key['複合鍵'].apply(get_community_info).tolist()\n",
    "\n",
    "transaction_with_key['戶數'] = [info['戶數'] for info in community_info_list]\n",
    "transaction_with_key['建設公司'] = [info['建設公司'] for info in community_info_list]\n",
    "\n",
    "transaction_with_key\n",
    "# 移除臨時複合鍵欄位\n",
    "# merged_df = transaction_with_key.drop('複合鍵', axis=1)"
   ]
  },
  {
   "cell_type": "code",
   "execution_count": null,
   "id": "360b3146",
   "metadata": {},
   "outputs": [],
   "source": [
    "transaction_with_key"
   ]
  },
  {
   "cell_type": "code",
   "execution_count": null,
   "id": "253a44d0",
   "metadata": {},
   "outputs": [],
   "source": [
    "print(\"\\n📈 統計結果...\")\n",
    "\n",
    "total_matched = sum(stage_stats.values())\n",
    "total_unique_keys = len(transaction_keys)\n",
    "match_rate = (total_matched / total_unique_keys * 100) if total_unique_keys > 0 else 0"
   ]
  },
  {
   "cell_type": "code",
   "execution_count": null,
   "id": "8a27b1d0",
   "metadata": {},
   "outputs": [],
   "source": [
    "match_rate"
   ]
  }
 ],
 "metadata": {
  "kernelspec": {
   "display_name": "housing-market-insights",
   "language": "python",
   "name": "python3"
  },
  "language_info": {
   "codemirror_mode": {
    "name": "ipython",
    "version": 3
   },
   "file_extension": ".py",
   "mimetype": "text/x-python",
   "name": "python",
   "nbconvert_exporter": "python",
   "pygments_lexer": "ipython3",
   "version": "3.11.13"
  }
 },
 "nbformat": 4,
 "nbformat_minor": 5
}
