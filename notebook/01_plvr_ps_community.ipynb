{
 "cells": [
  {
   "cell_type": "markdown",
   "id": "94b02b12",
   "metadata": {},
   "source": [
    "# 預售社區基本資料\n",
    "## 處理事項\n",
    "- 由實價登錄網站抓取預售屋資料，每月更新\n",
    "- 資料清洗"
   ]
  },
  {
   "cell_type": "code",
   "execution_count": null,
   "id": "f5bc6470",
   "metadata": {},
   "outputs": [],
   "source": [
    "import os\n",
    "import re\n",
    "import time\n",
    "import datetime\n",
    "from typing import Generator, List, Any, Literal\n",
    "import ast\n",
    "import pandas as pd\n",
    "import requests\n",
    "from tqdm import tqdm\n",
    "from IPython.display import display\n",
    "import warnings\n",
    "warnings.filterwarnings('ignore')\n",
    "\n",
    "import sys\n",
    "from pathlib import Path\n",
    "project_root = Path.cwd().parent  # 找出根目錄：Path.cwd()找出現在所在目錄(/run).parent(上一層是notebook).parent(再上層一層business_district_discovery)\n",
    "print(project_root)\n",
    "sys.path.append(str(project_root))"
   ]
  },
  {
   "cell_type": "code",
   "execution_count": null,
   "id": "5b577ec1",
   "metadata": {},
   "outputs": [],
   "source": [
    "from utils.configs import COMMUNITY_BASE_URL, COMMUNITY_URLS_FRAGMENTS, COMMUNITY_COLUMN_NAME\n",
    "from utils.helper_function import build_complete_urls, combined_df, csv_extractor  # 預售社區資料取得\n",
    "from utils.helper_function import parse_admin_region, extract_mixed_alphanumeric_ids, extract_company_name, find_first_sale_time, convert_mixed_date_columns"
   ]
  },
  {
   "cell_type": "markdown",
   "id": "72815c98",
   "metadata": {},
   "source": [
    "## 從實價登錄網站取得預售屋社區資料\n",
    "- function\n",
    "    - build_complete_url(網址組合)、fetch_data(向實價網址請求資料)、combined_df(合併全台預售屋資料)"
   ]
  },
  {
   "cell_type": "code",
   "execution_count": null,
   "id": "f0630b97",
   "metadata": {},
   "outputs": [],
   "source": [
    "# 組合預售屋社區網址\n",
    "urls = build_complete_urls(COMMUNITY_BASE_URL, COMMUNITY_URLS_FRAGMENTS)\n",
    "for idx, (city, link) in enumerate(urls.items(), start=1):\n",
    "    print(f\"{idx}. {city} → {link}\")\n",
    "\n",
    "print(f\"\\n總共有 {len(urls)} 筆縣市資料\")"
   ]
  },
  {
   "cell_type": "code",
   "execution_count": null,
   "id": "a1b0e4c7",
   "metadata": {},
   "outputs": [],
   "source": [
    "# 依上述網址向實價登錄網站請求資料\n",
    "raw_community_df = combined_df(urls, \"20250801\")"
   ]
  },
  {
   "cell_type": "code",
   "execution_count": null,
   "id": "0a6b35c7",
   "metadata": {},
   "outputs": [],
   "source": [
    "# 儲存原始資料\n",
    "output_dir = r\"C:\\pylabs\\housing-market-insights\\data\\lvr_moi\\ps_community\\raw\"\n",
    "os.makedirs(output_dir, exist_ok=True)\n",
    "\n",
    "csv_fn = \"raw_ps_community_20280801.csv\"\n",
    "out_path = os.path.join(output_dir,  csv_fn)\n",
    "raw_community_df.to_csv(out_path, index=False, encoding='utf-8-sig')"
   ]
  },
  {
   "cell_type": "markdown",
   "id": "6ea07061",
   "metadata": {},
   "source": [
    "## 載入原始資料並進行後續資料清洗\n",
    "- function：csv_extractor(csv載入)"
   ]
  },
  {
   "cell_type": "code",
   "execution_count": null,
   "id": "9befafcf",
   "metadata": {},
   "outputs": [],
   "source": [
    "input_dir = r\"C:\\pylabs\\housing-market-insights\\data\\lvr_moi\\ps_community\\raw\"\n",
    "csv_fn = \"raw_ps_community_20280801.csv\"\n",
    "input_path = os.path.join(input_dir,  csv_fn)"
   ]
  },
  {
   "cell_type": "code",
   "execution_count": null,
   "id": "af39d742",
   "metadata": {},
   "outputs": [],
   "source": [
    "# 載入原始預售屋社區資料\n",
    "extracted =csv_extractor(input_path)\n",
    "print(f\" 逐筆交易資料載入成功: {extracted.shape}  記憶體使用: {extracted.memory_usage(deep=True).sum() / 1024**2:.2f} MB\")\n",
    "extracted.head()"
   ]
  },
  {
   "cell_type": "markdown",
   "id": "6a9e8aee",
   "metadata": {},
   "source": [
    "## 預售社區資料清洗\n",
    "- 欄位名稱及型態轉換\n",
    "- 新增行政區欄位: parse_admin_region\n",
    "- 編號列表欄位拆解為編號清單及建設公司欄位: extract_mixed_alphanumeric_ids、extract_company_name\n",
    "- 新增自售及代售的起始日期: find_first_sale_time\n",
    "- 目期相關欄位轉換為datetime64: convert_mixed_date_columns\n",
    "- 重複社區處理"
   ]
  },
  {
   "cell_type": "code",
   "execution_count": null,
   "id": "b3fcceb5",
   "metadata": {},
   "outputs": [],
   "source": [
    "proc_df = extracted.copy()"
   ]
  },
  {
   "cell_type": "code",
   "execution_count": null,
   "id": "4511efb1",
   "metadata": {},
   "outputs": [],
   "source": [
    "proc_df = proc_df.rename(columns=COMMUNITY_COLUMN_NAME, inplace=False)\n",
    "display(proc_df.columns)\n",
    "display(proc_df.shape)"
   ]
  },
  {
   "cell_type": "code",
   "execution_count": null,
   "id": "ba413199",
   "metadata": {},
   "outputs": [],
   "source": [
    "# dataframe基本資料檢視\n",
    "def info(df):\n",
    "    \"\"\"\n",
    "    顯示 DataFrame 欄位資訊，包括資料型別、非空值數量、缺失數量與缺失率。\n",
    "    參數：\n",
    "    df (pd.DataFrame): 要檢視的資料表。\n",
    "    \"\"\"      \n",
    "    print(\"-\" * 50)\n",
    "    summary = pd.DataFrame({\n",
    "        '欄位名稱': df.columns,\n",
    "        '資料型別': df.dtypes,\n",
    "        '非空值數量': df.count(),\n",
    "        '缺失值數量': df.isnull().sum(),\n",
    "        '缺失率(%)': (df.isnull().sum() / len(df) * 100).round(2)\n",
    "    }).reset_index(drop=True)\n",
    "\n",
    "    return summary"
   ]
  },
  {
   "cell_type": "code",
   "execution_count": null,
   "id": "f7daf566",
   "metadata": {},
   "outputs": [],
   "source": [
    "print(\"預售社區資料欄位資訊:\")\n",
    "display(info(proc_df))"
   ]
  },
  {
   "cell_type": "code",
   "execution_count": null,
   "id": "f69450b4",
   "metadata": {},
   "outputs": [],
   "source": [
    "# 新增行政區欄位\n",
    "proc_df[\"行政區\"] = proc_df[\"坐落街道\"].apply(parse_admin_region)\n",
    "\n",
    "# 新增欄位存放擷取後的編號清單\n",
    "proc_df['備查編號清單'] = proc_df[ '編號列表'].apply(extract_mixed_alphanumeric_ids)\n",
    "\n",
    "# 取出建商名稱\n",
    "proc_df['建設公司'] = proc_df.apply(extract_company_name, axis=1)\n",
    "\n",
    "# 依規則從「自售期間」及「代銷期間」欄位提取出7位數字，\n",
    "# 分別存入新欄位「自售起始時間」與「代銷起始時間」\n",
    "proc_df[\"自售起始日期\"] = proc_df[\"自銷售期間\"].apply(find_first_sale_time)\n",
    "proc_df[\"代銷起始日期\"] = proc_df[\"代銷售期間\"].apply(find_first_sale_time)\n",
    "\n",
    "\n",
    "# 日期欄位轉換\n",
    "# 民國整數欄位 roc_integer_cols\n",
    "# 民國斜線欄位（交易資料表）roc_slash_cols\n",
    "# 西元欄位ad_cols\n",
    "proc_df = convert_mixed_date_columns(\n",
    "    proc_df,\n",
    "    roc_cols=['完成建物第一次登記日期', '自售起始日期', '代銷起始日期', '備查完成日期', '建照核發日'],\n",
    "    ad_cols=['匯入時間']\n",
    ")\n",
    "\n",
    "# proc_df.columns"
   ]
  },
  {
   "cell_type": "code",
   "execution_count": null,
   "id": "5b1f49d1",
   "metadata": {},
   "outputs": [],
   "source": [
    "print(\"新增欄位後預售社區資料欄位資訊:\")\n",
    "display(info(proc_df))"
   ]
  },
  {
   "cell_type": "code",
   "execution_count": null,
   "id": "728f1f10",
   "metadata": {},
   "outputs": [],
   "source": [
    "# 儲存測式資料\n",
    "output_dir = r\"C:\\pylabs\\housing-market-insights\\data\\lvr_moi\\ps_community\\temp\"\n",
    "os.makedirs(output_dir, exist_ok=True)\n",
    "\n",
    "csv_fn = \"temp_ps_community_20280801.csv\"\n",
    "out_path = os.path.join(output_dir,  csv_fn)\n",
    "proc_df.to_csv(out_path, index=False, encoding='utf-8-sig')"
   ]
  },
  {
   "cell_type": "code",
   "execution_count": null,
   "id": "f3a6adbf",
   "metadata": {},
   "outputs": [],
   "source": [
    "def identify_duplicate_groups(df):\n",
    "    \"\"\"\n",
    "    識別重複社區群組\n",
    "    條件：行政區 + 建照執照 + 經度相同\n",
    "    \"\"\"\n",
    "    duplicate_groups = {}\n",
    "    group_id = 0\n",
    "    \n",
    "    # 建立分組條件\n",
    "    df['group_key'] = df['行政區'].astype(str) + '|' + \\\n",
    "                     df['建照執照'].astype(str) + '|' + \\\n",
    "                     df['經度'].astype(str)\n",
    "    \n",
    "    # 找出重複群組\n",
    "    group_counts = df['group_key'].value_counts()\n",
    "    duplicate_keys = group_counts[group_counts > 1].index\n",
    "    \n",
    "    for key in duplicate_keys:\n",
    "        indices = df[df['group_key'] == key]['編號'].tolist()\n",
    "        if len(indices) > 1:\n",
    "            duplicate_groups[group_id] = indices\n",
    "            group_id += 1\n",
    "    \n",
    "    # 清理臨時欄位\n",
    "    df.drop('group_key', axis=1, inplace=True)\n",
    "    \n",
    "    print(f\"發現 {len(duplicate_groups)} 個重複群組\")\n",
    "    return duplicate_groups"
   ]
  },
  {
   "cell_type": "code",
   "execution_count": null,
   "id": "2569ecfd",
   "metadata": {},
   "outputs": [],
   "source": [
    "identify_duplicate_groups(proc_df)"
   ]
  },
  {
   "cell_type": "code",
   "execution_count": null,
   "id": "8a2ccdd4",
   "metadata": {},
   "outputs": [],
   "source": [
    "# 檢查是否有重複的社區組合\n",
    "community_duplicates = proc_df[\n",
    "    proc_df.duplicated(subset=['行政區','建照執照', '經度'], keep=False)\n",
    "].sort_values(by=['行政區','建照執照', '經度'])\n",
    "\n",
    "# 顯示結果\n",
    "if not community_duplicates.empty:\n",
    "    print(\"🔁 發現重複交易紀錄如下：\")\n",
    "    display(community_duplicates[['縣市','行政區', '建照執照', '經度', '社區名稱','戶數', '編號','備查編號清單', '建設公司', '自售起始日期', '代銷起始日期', '備查完成日期']])\n",
    "else:\n",
    "    print(\"✅ 沒有發現以『'行政區','建照執照'』為鍵的重複交易紀錄\")"
   ]
  },
  {
   "cell_type": "code",
   "execution_count": null,
   "id": "4ca5bbe0",
   "metadata": {},
   "outputs": [],
   "source": [
    "def normalize_join(values, sep=', '):\n",
    "    parts = []\n",
    "    for v in values:\n",
    "        if v is None:\n",
    "            continue\n",
    "        for p in re.split(r'[,\\s]+', str(v)):\n",
    "            if p:\n",
    "                parts.append(p)\n",
    "    out, seen = [], set()\n",
    "    for p in parts:\n",
    "        if p not in seen:\n",
    "            out.append(p); seen.add(p)\n",
    "    return sep.join(out)\n",
    "\n",
    "src_id = 'G2H011112080002'  # 來源\n",
    "dst_id = 'G2H011303070002'  # 目的\n",
    "\n",
    "src = proc_df.loc[proc_df['編號'] == src_id, '備查編號清單']\n",
    "dst = proc_df.loc[proc_df['編號'] == dst_id, '備查編號清單']\n",
    "\n",
    "if not src.empty and not dst.empty:\n",
    "    merged = normalize_join([dst.iloc[0], src.iloc[0]])\n",
    "    proc_df.loc[proc_df['編號'] == dst_id, '備查編號清單'] = merged\n"
   ]
  },
  {
   "cell_type": "code",
   "execution_count": null,
   "id": "b2722a2d",
   "metadata": {},
   "outputs": [],
   "source": [
    "# proc_df.loc[proc_df['編號'] == src_id, '備查編號清單']\n",
    "proc_df.loc[proc_df['編號'] == dst_id, '備查編號清單']\n"
   ]
  },
  {
   "cell_type": "code",
   "execution_count": null,
   "id": "cea2004e",
   "metadata": {},
   "outputs": [],
   "source": [
    "proc_df[proc_df['編號'] == 'G2H011112080002']['備查編號清單']\n",
    "proc_df[proc_df['編號'] == 'G2H011303070002']['備查編號清單']"
   ]
  },
  {
   "cell_type": "code",
   "execution_count": null,
   "id": "23813edd",
   "metadata": {},
   "outputs": [],
   "source": [
    "def identify_duplicate_groups(df):\n",
    "    \"\"\"\n",
    "    識別重複社區群組\n",
    "    條件：行政區 + 建照執照 + 經度相同\n",
    "    \"\"\"\n",
    "    # 建立分組條件\n",
    "    df['group_key'] = df['行政區'].astype(str) + '|' + \\\n",
    "                     df['建照執照'].astype(str) + '|' + \\\n",
    "                     df['經度'].astype(str)\n",
    "    \n",
    "    # 找出重複群組並直接建立字典\n",
    "    duplicate_groups = (df[df.duplicated('group_key', keep=False)]\n",
    "                       .groupby('group_key')['編號']\n",
    "                       .apply(list)\n",
    "                       .to_dict())\n",
    "    \n",
    "    # 重新編號\n",
    "    duplicate_groups = {i: v for i, (k, v) in enumerate(duplicate_groups.items())}\n",
    "    \n",
    "    # 清理臨時欄位\n",
    "    df.drop('group_key', axis=1, inplace=True)\n",
    "    \n",
    "    print(f\"發現 {len(duplicate_groups)} 個重複群組\")\n",
    "    return duplicate_groups"
   ]
  },
  {
   "cell_type": "code",
   "execution_count": null,
   "id": "40dd1095",
   "metadata": {},
   "outputs": [],
   "source": [
    "identify_duplicate_groups(proc_df)"
   ]
  },
  {
   "cell_type": "code",
   "execution_count": null,
   "id": "48b3d70b",
   "metadata": {},
   "outputs": [],
   "source": [
    "df_merged = (\n",
    "    community_duplicates\n",
    "    .groupby(['縣市','行政區','建照執照','經度'], as_index=False)\n",
    "    .agg({\n",
    "        '備查編號清單': lambda s: ', '.join(sorted(set(s))),\n",
    "        '社區名稱':      lambda s: s.iloc[1] if len(s) > 1 else s.iloc[0],  # 取第2列,\n",
    "        '戶數':          lambda s: s.iloc[1] if len(s) > 1 else s.iloc[0],  # 取第2列\n",
    "        '編號':          lambda s:s.iloc[1] if len(s) > 1 else s.iloc[0],  # 取第2列,\n",
    "        '建設公司':      lambda s: ', '.join(sorted(set(s))),\n",
    "        '自售起始日期':  'first',\n",
    "        '代銷起始日期':  'first',\n",
    "        '備查完成日期':  'first',\n",
    "    })\n",
    ")\n",
    "display(df_merged)"
   ]
  },
  {
   "cell_type": "code",
   "execution_count": null,
   "id": "ac275c96",
   "metadata": {},
   "outputs": [],
   "source": [
    "display(info(proc_df))"
   ]
  }
 ],
 "metadata": {
  "kernelspec": {
   "display_name": "housing-market-insights",
   "language": "python",
   "name": "python3"
  },
  "language_info": {
   "codemirror_mode": {
    "name": "ipython",
    "version": 3
   },
   "file_extension": ".py",
   "mimetype": "text/x-python",
   "name": "python",
   "nbconvert_exporter": "python",
   "pygments_lexer": "ipython3",
   "version": "3.11.13"
  }
 },
 "nbformat": 4,
 "nbformat_minor": 5
}
