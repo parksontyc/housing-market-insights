{
 "cells": [
  {
   "cell_type": "markdown",
   "id": "94b02b12",
   "metadata": {},
   "source": [
    "# 預售社區基本資料\n",
    "## 處理事項\n",
    "- 由實價登錄網站抓取預售屋資料，每月更新\n",
    "- 資料清洗"
   ]
  },
  {
   "cell_type": "code",
   "execution_count": 1,
   "id": "f5bc6470",
   "metadata": {},
   "outputs": [
    {
     "name": "stdout",
     "output_type": "stream",
     "text": [
      "c:\\pylabs\\housing-market-insights\n"
     ]
    }
   ],
   "source": [
    "import os\n",
    "import re\n",
    "import pandas as pd\n",
    "from IPython.display import display\n",
    "import warnings\n",
    "warnings.filterwarnings('ignore')\n",
    "\n",
    "import sys\n",
    "from pathlib import Path\n",
    "project_root = Path.cwd().parent  # 找出根目錄：Path.cwd()找出現在所在目錄(/run).parent(上一層是notebook).parent(再上層一層business_district_discovery)\n",
    "print(project_root)\n",
    "sys.path.append(str(project_root))"
   ]
  },
  {
   "cell_type": "code",
   "execution_count": 2,
   "id": "5b577ec1",
   "metadata": {},
   "outputs": [],
   "source": [
    "from utils.configs import COMMUNITY_BASE_URL, COMMUNITY_URLS_FRAGMENTS, COMMUNITY_COLUMN_NAME\n",
    "from utils.helper_function import build_complete_urls, combined_df, csv_extractor  # 預售社區資料取得\n",
    "from utils.helper_function import parse_admin_region, extract_mixed_alphanumeric_ids, extract_company_name, find_first_sale_time, convert_mixed_date_columns"
   ]
  },
  {
   "cell_type": "markdown",
   "id": "72815c98",
   "metadata": {},
   "source": [
    "## 從實價登錄網站取得預售屋社區資料\n",
    "- function\n",
    "    - build_complete_url(網址組合)、fetch_data(向實價網址請求資料)、combined_df(合併全台預售屋資料)"
   ]
  },
  {
   "cell_type": "code",
   "execution_count": null,
   "id": "f0630b97",
   "metadata": {},
   "outputs": [],
   "source": [
    "# 組合預售屋社區網址\n",
    "urls = build_complete_urls(COMMUNITY_BASE_URL, COMMUNITY_URLS_FRAGMENTS)\n",
    "for idx, (city, link) in enumerate(urls.items(), start=1):\n",
    "    print(f\"{idx}. {city} → {link}\")\n",
    "\n",
    "print(f\"\\n總共有 {len(urls)} 筆縣市資料\")"
   ]
  },
  {
   "cell_type": "code",
   "execution_count": null,
   "id": "a1b0e4c7",
   "metadata": {},
   "outputs": [],
   "source": [
    "# 依上述網址向實價登錄網站請求資料\n",
    "raw_community_df = combined_df(urls, \"20250801\")"
   ]
  },
  {
   "cell_type": "code",
   "execution_count": null,
   "id": "0a6b35c7",
   "metadata": {},
   "outputs": [],
   "source": [
    "# 儲存原始資料\n",
    "output_dir = r\"C:\\pylabs\\housing-market-insights\\data\\lvr_moi\\ps_community\\raw\"\n",
    "os.makedirs(output_dir, exist_ok=True)\n",
    "\n",
    "csv_fn = \"raw_ps_community_20280801.csv\"\n",
    "out_path = os.path.join(output_dir,  csv_fn)\n",
    "raw_community_df.to_csv(out_path, index=False, encoding='utf-8-sig')"
   ]
  },
  {
   "cell_type": "markdown",
   "id": "6ea07061",
   "metadata": {},
   "source": [
    "## 載入原始資料並進行後續資料清洗\n",
    "- function：csv_extractor(csv載入)"
   ]
  },
  {
   "cell_type": "code",
   "execution_count": 3,
   "id": "9befafcf",
   "metadata": {},
   "outputs": [],
   "source": [
    "input_dir = r\"C:\\pylabs\\housing-market-insights\\data\\lvr_moi\\ps_community\\raw\"\n",
    "csv_fn = \"raw_ps_community_20280801.csv\"\n",
    "input_path = os.path.join(input_dir,  csv_fn)"
   ]
  },
  {
   "cell_type": "code",
   "execution_count": 4,
   "id": "af39d742",
   "metadata": {},
   "outputs": [
    {
     "name": "stdout",
     "output_type": "stream",
     "text": [
      "total_rows: 8619\n"
     ]
    },
    {
     "name": "stderr",
     "output_type": "stream",
     "text": [
      "Extracting rows: 100%|█████████▉| 8596/8619 [00:00<00:00, 69959.73it/s]"
     ]
    },
    {
     "name": "stdout",
     "output_type": "stream",
     "text": [
      "\n",
      "Extracting finished\n",
      " 逐筆交易資料載入成功: (8596, 27)  記憶體使用: 14.51 MB\n"
     ]
    },
    {
     "name": "stderr",
     "output_type": "stream",
     "text": [
      "\n"
     ]
    },
    {
     "data": {
      "text/html": [
       "<div>\n",
       "<style scoped>\n",
       "    .dataframe tbody tr th:only-of-type {\n",
       "        vertical-align: middle;\n",
       "    }\n",
       "\n",
       "    .dataframe tbody tr th {\n",
       "        vertical-align: top;\n",
       "    }\n",
       "\n",
       "    .dataframe thead th {\n",
       "        text-align: right;\n",
       "    }\n",
       "</style>\n",
       "<table border=\"1\" class=\"dataframe\">\n",
       "  <thead>\n",
       "    <tr style=\"text-align: right;\">\n",
       "      <th></th>\n",
       "      <th>city_name</th>\n",
       "      <th>AA11</th>\n",
       "      <th>addr</th>\n",
       "      <th>apply</th>\n",
       "      <th>applydate</th>\n",
       "      <th>b</th>\n",
       "      <th>chkdate</th>\n",
       "      <th>city</th>\n",
       "      <th>e</th>\n",
       "      <th>f</th>\n",
       "      <th>...</th>\n",
       "      <th>ma</th>\n",
       "      <th>mark</th>\n",
       "      <th>name</th>\n",
       "      <th>pimg</th>\n",
       "      <th>pu</th>\n",
       "      <th>s</th>\n",
       "      <th>sn</th>\n",
       "      <th>subid</th>\n",
       "      <th>town</th>\n",
       "      <th>input_time</th>\n",
       "    </tr>\n",
       "  </thead>\n",
       "  <tbody>\n",
       "    <tr>\n",
       "      <th>0</th>\n",
       "      <td>臺北市</td>\n",
       "      <td>第三種住宅區</td>\n",
       "      <td>大安區臥龍街268號</td>\n",
       "      <td>潤泰創新國際股份有限公司</td>\n",
       "      <td>1100702</td>\n",
       "      <td>辛亥段四小段482地號</td>\n",
       "      <td>1100819.0</td>\n",
       "      <td>A</td>\n",
       "      <td>1100701~自完售止,1100701~售完為止</td>\n",
       "      <td>NaN</td>\n",
       "      <td>...</td>\n",
       "      <td>鋼筋混凝土造</td>\n",
       "      <td>潤泰創新國際股份有限公司</td>\n",
       "      <td>潤泰大安富陽</td>\n",
       "      <td>build_case.png</td>\n",
       "      <td>店舖、住宅</td>\n",
       "      <td>NaN</td>\n",
       "      <td>0</td>\n",
       "      <td>0</td>\n",
       "      <td>A02</td>\n",
       "      <td>20250801</td>\n",
       "    </tr>\n",
       "    <tr>\n",
       "      <th>1</th>\n",
       "      <td>臺北市</td>\n",
       "      <td>商業區</td>\n",
       "      <td>大同區延平北路一段25號旁</td>\n",
       "      <td>亞昕國際開發股份有限公司</td>\n",
       "      <td>1100702</td>\n",
       "      <td>玉泉段一小段874地號,玉泉段一小段875地號,玉泉段一小段885地號,玉泉段一小段886地...</td>\n",
       "      <td>1100825.0</td>\n",
       "      <td>A</td>\n",
       "      <td>1090601~1091231,事務所</td>\n",
       "      <td>1130709.0</td>\n",
       "      <td>...</td>\n",
       "      <td>鋼骨RC造</td>\n",
       "      <td>中國建築經理股份有限公司</td>\n",
       "      <td>亞昕華威</td>\n",
       "      <td>build_case.png</td>\n",
       "      <td>住商用</td>\n",
       "      <td>1100501~1111130</td>\n",
       "      <td>1</td>\n",
       "      <td>0</td>\n",
       "      <td>A09</td>\n",
       "      <td>20250801</td>\n",
       "    </tr>\n",
       "    <tr>\n",
       "      <th>2</th>\n",
       "      <td>臺北市</td>\n",
       "      <td>敦化南北路特定專用區(B區)</td>\n",
       "      <td>松山區敦化北路56號</td>\n",
       "      <td>國美投資股份有限公司等5人</td>\n",
       "      <td>1100705</td>\n",
       "      <td>敦化段二小段4地號,敦化段二小段4-1地號,敦化段二小段16地號,敦化段二小段32地號,敦化...</td>\n",
       "      <td>1120731.0</td>\n",
       "      <td>A</td>\n",
       "      <td>無</td>\n",
       "      <td>NaN</td>\n",
       "      <td>...</td>\n",
       "      <td>鋼骨造</td>\n",
       "      <td>台新建築經理股份有限公司</td>\n",
       "      <td>敦仰</td>\n",
       "      <td>build_case.png</td>\n",
       "      <td>一般零售業甲組(店舖);集合住宅</td>\n",
       "      <td>110年10月21日起至使照取得6個月止</td>\n",
       "      <td>2</td>\n",
       "      <td>2</td>\n",
       "      <td>A01</td>\n",
       "      <td>20250801</td>\n",
       "    </tr>\n",
       "    <tr>\n",
       "      <th>3</th>\n",
       "      <td>臺北市</td>\n",
       "      <td>第三種住宅區</td>\n",
       "      <td>士林區德行東路335號</td>\n",
       "      <td>朋記建設股份有限公司</td>\n",
       "      <td>1100705</td>\n",
       "      <td>芝蘭段一小段320地號,芝蘭段一小段321地號,芝蘭段一小段325地號,芝蘭段一小段326地...</td>\n",
       "      <td>1101028.0</td>\n",
       "      <td>A</td>\n",
       "      <td>無</td>\n",
       "      <td>NaN</td>\n",
       "      <td>...</td>\n",
       "      <td>鋼筋混凝土造</td>\n",
       "      <td>台灣新光商業銀行股份有限公司</td>\n",
       "      <td>原禾賦</td>\n",
       "      <td>build_case.png</td>\n",
       "      <td>住商用</td>\n",
       "      <td>1100701~1101231</td>\n",
       "      <td>3</td>\n",
       "      <td>3</td>\n",
       "      <td>A15</td>\n",
       "      <td>20250801</td>\n",
       "    </tr>\n",
       "    <tr>\n",
       "      <th>4</th>\n",
       "      <td>臺北市</td>\n",
       "      <td>敦化南北路特定專用區(A)區</td>\n",
       "      <td>大安區建安里敦化南路一段161巷5弄6號2樓</td>\n",
       "      <td>富邦建設股份有限公司</td>\n",
       "      <td>1100705</td>\n",
       "      <td>仁愛段六小段244地號,仁愛段六小段263-4地號,仁愛段六小段516地號,仁愛段六小段51...</td>\n",
       "      <td>1120721.0</td>\n",
       "      <td>A</td>\n",
       "      <td>至完銷</td>\n",
       "      <td>NaN</td>\n",
       "      <td>...</td>\n",
       "      <td>鋼骨造</td>\n",
       "      <td>富邦建設股份有限公司</td>\n",
       "      <td>富邦藝樹</td>\n",
       "      <td>build_case.png</td>\n",
       "      <td>住商用</td>\n",
       "      <td>1100301~1101031</td>\n",
       "      <td>4</td>\n",
       "      <td>2</td>\n",
       "      <td>A02</td>\n",
       "      <td>20250801</td>\n",
       "    </tr>\n",
       "  </tbody>\n",
       "</table>\n",
       "<p>5 rows × 27 columns</p>\n",
       "</div>"
      ],
      "text/plain": [
       "  city_name            AA11                    addr          apply  applydate  \\\n",
       "0       臺北市          第三種住宅區              大安區臥龍街268號   潤泰創新國際股份有限公司    1100702   \n",
       "1       臺北市             商業區           大同區延平北路一段25號旁   亞昕國際開發股份有限公司    1100702   \n",
       "2       臺北市  敦化南北路特定專用區(B區)              松山區敦化北路56號  國美投資股份有限公司等5人    1100705   \n",
       "3       臺北市          第三種住宅區             士林區德行東路335號     朋記建設股份有限公司    1100705   \n",
       "4       臺北市  敦化南北路特定專用區(A)區  大安區建安里敦化南路一段161巷5弄6號2樓     富邦建設股份有限公司    1100705   \n",
       "\n",
       "                                                   b    chkdate city  \\\n",
       "0                                        辛亥段四小段482地號  1100819.0    A   \n",
       "1  玉泉段一小段874地號,玉泉段一小段875地號,玉泉段一小段885地號,玉泉段一小段886地...  1100825.0    A   \n",
       "2  敦化段二小段4地號,敦化段二小段4-1地號,敦化段二小段16地號,敦化段二小段32地號,敦化...  1120731.0    A   \n",
       "3  芝蘭段一小段320地號,芝蘭段一小段321地號,芝蘭段一小段325地號,芝蘭段一小段326地...  1101028.0    A   \n",
       "4  仁愛段六小段244地號,仁愛段六小段263-4地號,仁愛段六小段516地號,仁愛段六小段51...  1120721.0    A   \n",
       "\n",
       "                           e          f  ...      ma            mark    name  \\\n",
       "0  1100701~自完售止,1100701~售完為止        NaN  ...  鋼筋混凝土造    潤泰創新國際股份有限公司  潤泰大安富陽   \n",
       "1        1090601~1091231,事務所  1130709.0  ...   鋼骨RC造    中國建築經理股份有限公司    亞昕華威   \n",
       "2                          無        NaN  ...     鋼骨造    台新建築經理股份有限公司      敦仰   \n",
       "3                          無        NaN  ...  鋼筋混凝土造  台灣新光商業銀行股份有限公司     原禾賦   \n",
       "4                        至完銷        NaN  ...     鋼骨造      富邦建設股份有限公司    富邦藝樹   \n",
       "\n",
       "             pimg                pu                     s  sn subid town  \\\n",
       "0  build_case.png             店舖、住宅                   NaN   0     0  A02   \n",
       "1  build_case.png               住商用       1100501~1111130   1     0  A09   \n",
       "2  build_case.png  一般零售業甲組(店舖);集合住宅  110年10月21日起至使照取得6個月止   2     2  A01   \n",
       "3  build_case.png               住商用       1100701~1101231   3     3  A15   \n",
       "4  build_case.png               住商用       1100301~1101031   4     2  A02   \n",
       "\n",
       "  input_time  \n",
       "0   20250801  \n",
       "1   20250801  \n",
       "2   20250801  \n",
       "3   20250801  \n",
       "4   20250801  \n",
       "\n",
       "[5 rows x 27 columns]"
      ]
     },
     "execution_count": 4,
     "metadata": {},
     "output_type": "execute_result"
    }
   ],
   "source": [
    "# 載入原始預售屋社區資料\n",
    "extracted =csv_extractor(input_path)\n",
    "print(f\" 逐筆交易資料載入成功: {extracted.shape}  記憶體使用: {extracted.memory_usage(deep=True).sum() / 1024**2:.2f} MB\")\n",
    "extracted.head()"
   ]
  },
  {
   "cell_type": "markdown",
   "id": "6a9e8aee",
   "metadata": {},
   "source": [
    "## 預售社區資料清洗\n",
    "- 欄位名稱及型態轉換\n",
    "- 新增行政區欄位: parse_admin_region\n",
    "- 編號列表欄位拆解為編號清單及建設公司欄位: extract_mixed_alphanumeric_ids、extract_company_name\n",
    "- 新增自售及代售的起始日期: find_first_sale_time\n",
    "- 目期相關欄位轉換為datetime64: convert_mixed_date_columns\n",
    "- 重複社區處理"
   ]
  },
  {
   "cell_type": "code",
   "execution_count": 5,
   "id": "b3fcceb5",
   "metadata": {},
   "outputs": [],
   "source": [
    "proc_df = extracted.copy()"
   ]
  },
  {
   "cell_type": "code",
   "execution_count": 6,
   "id": "4511efb1",
   "metadata": {},
   "outputs": [],
   "source": [
    "proc_df = proc_df.rename(columns=COMMUNITY_COLUMN_NAME, inplace=False)"
   ]
  },
  {
   "cell_type": "code",
   "execution_count": 7,
   "id": "ba413199",
   "metadata": {},
   "outputs": [],
   "source": [
    "# dataframe基本資料檢視\n",
    "def info(df):\n",
    "    \"\"\"\n",
    "    顯示 DataFrame 欄位資訊，包括資料型別、非空值數量、缺失數量與缺失率。\n",
    "    參數：\n",
    "    df (pd.DataFrame): 要檢視的資料表。\n",
    "    \"\"\"      \n",
    "    print(\"-\" * 50)\n",
    "    summary = pd.DataFrame({\n",
    "        '欄位名稱': df.columns,\n",
    "        '資料型別': df.dtypes,\n",
    "        '非空值數量': df.count(),\n",
    "        '缺失值數量': df.isnull().sum(),\n",
    "        '缺失率(%)': (df.isnull().sum() / len(df) * 100).round(2)\n",
    "    }).reset_index(drop=True)\n",
    "\n",
    "    return summary"
   ]
  },
  {
   "cell_type": "code",
   "execution_count": null,
   "id": "f7daf566",
   "metadata": {},
   "outputs": [],
   "source": [
    "print(\"預售社區資料欄位資訊:\")\n",
    "display(info(proc_df))"
   ]
  },
  {
   "cell_type": "code",
   "execution_count": 8,
   "id": "f69450b4",
   "metadata": {},
   "outputs": [],
   "source": [
    "# 新增行政區欄位\n",
    "proc_df[\"行政區\"] = proc_df[\"坐落街道\"].apply(parse_admin_region)\n",
    "\n",
    "# 新增欄位存放擷取後的編號清單\n",
    "proc_df['備查編號清單'] = proc_df[ '編號列表'].apply(extract_mixed_alphanumeric_ids)\n",
    "\n",
    "# 取出建商名稱\n",
    "proc_df['建設公司'] = proc_df.apply(extract_company_name, axis=1)\n",
    "\n",
    "# 依規則從「自售期間」及「代銷期間」欄位提取出7位數字，\n",
    "# 分別存入新欄位「自售起始時間」與「代銷起始時間」\n",
    "proc_df[\"自售起始日期\"] = proc_df[\"自銷售期間\"].apply(find_first_sale_time)\n",
    "proc_df[\"代銷起始日期\"] = proc_df[\"代銷售期間\"].apply(find_first_sale_time)\n",
    "\n",
    "\n",
    "# 日期欄位轉換\n",
    "# 民國整數欄位 roc_integer_cols\n",
    "# 民國斜線欄位（交易資料表）roc_slash_cols\n",
    "# 西元欄位ad_cols\n",
    "proc_df = convert_mixed_date_columns(\n",
    "    proc_df,\n",
    "    roc_cols=['完成建物第一次登記日期', '自售起始日期', '代銷起始日期', '備查完成日期', '建照核發日'],\n",
    "    ad_cols=['匯入時間']\n",
    ")\n",
    "\n",
    "# proc_df.columns"
   ]
  },
  {
   "cell_type": "code",
   "execution_count": null,
   "id": "5b1f49d1",
   "metadata": {},
   "outputs": [],
   "source": [
    "print(\"新增欄位後預售社區資料欄位資訊:\")\n",
    "display(info(proc_df))"
   ]
  },
  {
   "cell_type": "code",
   "execution_count": 9,
   "id": "2ed354e5",
   "metadata": {},
   "outputs": [],
   "source": [
    "# 儲存測式資料\n",
    "output_dir = r\"C:\\pylabs\\housing-market-insights\\data\\lvr_moi\\ps_community\\processed\"\n",
    "os.makedirs(output_dir, exist_ok=True)\n",
    "\n",
    "csv_fn = \"ps_community_processed.csv\"\n",
    "out_path = os.path.join(output_dir,  csv_fn)\n",
    "proc_df.to_csv(out_path, index=False, encoding='utf-8-sig')"
   ]
  },
  {
   "cell_type": "code",
   "execution_count": null,
   "id": "728f1f10",
   "metadata": {},
   "outputs": [],
   "source": [
    "# 儲存測式資料\n",
    "output_dir = r\"C:\\pylabs\\housing-market-insights\\data\\lvr_moi\\ps_community\\temp\"\n",
    "os.makedirs(output_dir, exist_ok=True)\n",
    "\n",
    "csv_fn = \"temp_ps_community_20280801.csv\"\n",
    "out_path = os.path.join(output_dir,  csv_fn)\n",
    "proc_df.to_csv(out_path, index=False, encoding='utf-8-sig')"
   ]
  },
  {
   "cell_type": "code",
   "execution_count": null,
   "id": "f3a6adbf",
   "metadata": {},
   "outputs": [],
   "source": [
    "def identify_duplicate_groups(df):\n",
    "    \"\"\"\n",
    "    識別重複社區群組\n",
    "    條件：行政區 + 建照執照 + 經度相同\n",
    "    \"\"\"\n",
    "    duplicate_groups = {}\n",
    "    group_id = 0\n",
    "    \n",
    "    # 建立分組條件\n",
    "    df['group_key'] = df['行政區'].astype(str) + '|' + \\\n",
    "                     df['建照執照'].astype(str) + '|' + \\\n",
    "                     df['經度'].astype(str)\n",
    "    \n",
    "    # 找出重複群組\n",
    "    group_counts = df['group_key'].value_counts()\n",
    "    duplicate_keys = group_counts[group_counts > 1].index\n",
    "    \n",
    "    for key in duplicate_keys:\n",
    "        indices = df[df['group_key'] == key]['編號'].tolist()\n",
    "        if len(indices) > 1:\n",
    "            duplicate_groups[group_id] = indices\n",
    "            group_id += 1\n",
    "    \n",
    "    # 清理臨時欄位\n",
    "    df.drop('group_key', axis=1, inplace=True)\n",
    "    \n",
    "    print(f\"發現 {len(duplicate_groups)} 個重複群組\")\n",
    "    return duplicate_groups"
   ]
  },
  {
   "cell_type": "code",
   "execution_count": null,
   "id": "2569ecfd",
   "metadata": {},
   "outputs": [],
   "source": [
    "identify_duplicate_groups(proc_df)"
   ]
  },
  {
   "cell_type": "code",
   "execution_count": null,
   "id": "8a2ccdd4",
   "metadata": {},
   "outputs": [],
   "source": [
    "# 檢查是否有重複的社區組合\n",
    "community_duplicates = proc_df[\n",
    "    proc_df.duplicated(subset=['行政區','建照執照', '經度'], keep=False)\n",
    "].sort_values(by=['行政區','建照執照', '經度'])\n",
    "\n",
    "# 顯示結果\n",
    "if not community_duplicates.empty:\n",
    "    print(\"🔁 發現重複交易紀錄如下：\")\n",
    "    display(community_duplicates[['縣市','行政區', '建照執照', '經度', '社區名稱','戶數', '編號','備查編號清單', '建設公司', '自售起始日期', '代銷起始日期', '備查完成日期']])\n",
    "else:\n",
    "    print(\"✅ 沒有發現以『'行政區','建照執照'』為鍵的重複交易紀錄\")"
   ]
  },
  {
   "cell_type": "code",
   "execution_count": null,
   "id": "4ca5bbe0",
   "metadata": {},
   "outputs": [],
   "source": [
    "def normalize_join(values, sep=', '):\n",
    "    parts = []\n",
    "    for v in values:\n",
    "        if v is None:\n",
    "            continue\n",
    "        for p in re.split(r'[,\\s]+', str(v)):\n",
    "            if p:\n",
    "                parts.append(p)\n",
    "    out, seen = [], set()\n",
    "    for p in parts:\n",
    "        if p not in seen:\n",
    "            out.append(p); seen.add(p)\n",
    "    return sep.join(out)\n",
    "\n",
    "src_id = 'G2H011112080002'  # 來源\n",
    "dst_id = 'G2H011303070002'  # 目的\n",
    "\n",
    "src = proc_df.loc[proc_df['編號'] == src_id, '備查編號清單']\n",
    "dst = proc_df.loc[proc_df['編號'] == dst_id, '備查編號清單']\n",
    "\n",
    "if not src.empty and not dst.empty:\n",
    "    merged = normalize_join([dst.iloc[0], src.iloc[0]])\n",
    "    proc_df.loc[proc_df['編號'] == dst_id, '備查編號清單'] = merged\n"
   ]
  },
  {
   "cell_type": "code",
   "execution_count": null,
   "id": "b2722a2d",
   "metadata": {},
   "outputs": [],
   "source": [
    "# proc_df.loc[proc_df['編號'] == src_id, '備查編號清單']\n",
    "proc_df.loc[proc_df['編號'] == dst_id, '備查編號清單']\n"
   ]
  },
  {
   "cell_type": "code",
   "execution_count": null,
   "id": "cea2004e",
   "metadata": {},
   "outputs": [],
   "source": [
    "proc_df[proc_df['編號'] == 'G2H011112080002']['備查編號清單']\n",
    "proc_df[proc_df['編號'] == 'G2H011303070002']['備查編號清單']"
   ]
  },
  {
   "cell_type": "code",
   "execution_count": null,
   "id": "23813edd",
   "metadata": {},
   "outputs": [],
   "source": [
    "def identify_duplicate_groups(df):\n",
    "    \"\"\"\n",
    "    識別重複社區群組\n",
    "    條件：行政區 + 建照執照 + 經度相同\n",
    "    \"\"\"\n",
    "    # 建立分組條件\n",
    "    df['group_key'] = df['行政區'].astype(str) + '|' + \\\n",
    "                     df['建照執照'].astype(str) + '|' + \\\n",
    "                     df['經度'].astype(str)\n",
    "    \n",
    "    # 找出重複群組並直接建立字典\n",
    "    duplicate_groups = (df[df.duplicated('group_key', keep=False)]\n",
    "                       .groupby('group_key')['編號']\n",
    "                       .apply(list)\n",
    "                       .to_dict())\n",
    "    \n",
    "    # 重新編號\n",
    "    duplicate_groups = {i: v for i, (k, v) in enumerate(duplicate_groups.items())}\n",
    "    \n",
    "    # 清理臨時欄位\n",
    "    df.drop('group_key', axis=1, inplace=True)\n",
    "    \n",
    "    print(f\"發現 {len(duplicate_groups)} 個重複群組\")\n",
    "    return duplicate_groups"
   ]
  },
  {
   "cell_type": "code",
   "execution_count": null,
   "id": "40dd1095",
   "metadata": {},
   "outputs": [],
   "source": [
    "identify_duplicate_groups(proc_df)"
   ]
  },
  {
   "cell_type": "code",
   "execution_count": null,
   "id": "48b3d70b",
   "metadata": {},
   "outputs": [],
   "source": [
    "df_merged = (\n",
    "    community_duplicates\n",
    "    .groupby(['縣市','行政區','建照執照','經度'], as_index=False)\n",
    "    .agg({\n",
    "        '備查編號清單': lambda s: ', '.join(sorted(set(s))),\n",
    "        '社區名稱':      lambda s: s.iloc[1] if len(s) > 1 else s.iloc[0],  # 取第2列,\n",
    "        '戶數':          lambda s: s.iloc[1] if len(s) > 1 else s.iloc[0],  # 取第2列\n",
    "        '編號':          lambda s:s.iloc[1] if len(s) > 1 else s.iloc[0],  # 取第2列,\n",
    "        '建設公司':      lambda s: ', '.join(sorted(set(s))),\n",
    "        '自售起始日期':  'first',\n",
    "        '代銷起始日期':  'first',\n",
    "        '備查完成日期':  'first',\n",
    "    })\n",
    ")\n",
    "display(df_merged)"
   ]
  },
  {
   "cell_type": "code",
   "execution_count": null,
   "id": "ac275c96",
   "metadata": {},
   "outputs": [],
   "source": [
    "display(info(proc_df))"
   ]
  }
 ],
 "metadata": {
  "kernelspec": {
   "display_name": "housing-market-insights",
   "language": "python",
   "name": "python3"
  },
  "language_info": {
   "codemirror_mode": {
    "name": "ipython",
    "version": 3
   },
   "file_extension": ".py",
   "mimetype": "text/x-python",
   "name": "python",
   "nbconvert_exporter": "python",
   "pygments_lexer": "ipython3",
   "version": "3.11.13"
  }
 },
 "nbformat": 4,
 "nbformat_minor": 5
}
