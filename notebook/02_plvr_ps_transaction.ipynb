{
 "cells": [
  {
   "cell_type": "markdown",
   "id": "307ec201",
   "metadata": {},
   "source": [
    "# 預售屋買賣資料\n",
    "## 處理事項\n",
    "- 由實價登錄網站抓取預售買賣資料，每月更新，更新時間同預售屋社區資料\n",
    "- 資料清洗"
   ]
  },
  {
   "cell_type": "code",
   "execution_count": 1,
   "id": "178746be",
   "metadata": {},
   "outputs": [
    {
     "name": "stdout",
     "output_type": "stream",
     "text": [
      "c:\\pylabs\\housing-market-insights\n"
     ]
    }
   ],
   "source": [
    "import os\n",
    "from typing import Generator, List, Any, Literal\n",
    "import pandas as pd\n",
    "import requests\n",
    "from tqdm import tqdm\n",
    "from IPython.display import display\n",
    "import warnings\n",
    "warnings.filterwarnings('ignore')\n",
    "\n",
    "import sys\n",
    "from pathlib import Path\n",
    "project_root = Path.cwd().parent  # 找出根目錄：Path.cwd()找出現在所在目錄(/run).parent(上一層是notebook).parent(再上層一層business_district_discovery)\n",
    "print(project_root)\n",
    "sys.path.append(str(project_root))"
   ]
  },
  {
   "cell_type": "code",
   "execution_count": 2,
   "id": "7bb56da0",
   "metadata": {},
   "outputs": [],
   "source": [
    "from utils.configs import PRE_SALE_BASE_URL, PRE_SALE_URLS_FRAGMENTS, PRE_SALE_COLUMN_NAME\n",
    "from utils.helper_function import build_complete_urls, combined_df, csv_extractor  # 取得及載入資料\n",
    "from utils.helper_function import parse_admin_region, convert_mixed_date_columns, sample_csv_to_target_size  # 資料整理"
   ]
  },
  {
   "cell_type": "markdown",
   "id": "a6fe2f5e",
   "metadata": {},
   "source": [
    "## 從實價登錄網站取得預售屋買賣資料\n",
    "- function\n",
    "    - build_complete_url(網址組合)、fetch_data(向實價網址請求資料)、combined_df(合併全台預售屋資料)"
   ]
  },
  {
   "cell_type": "code",
   "execution_count": null,
   "id": "be9dbe40",
   "metadata": {},
   "outputs": [],
   "source": [
    "# 組合預售屋「買賣」網址\n",
    "urls = build_complete_urls(PRE_SALE_BASE_URL, PRE_SALE_URLS_FRAGMENTS)\n",
    "for idx, (city, link) in enumerate(urls.items(), start=1):\n",
    "    print(f\"{idx}. {city} → {link}\")\n",
    "\n",
    "print(f\"\\n總共有 {len(urls)} 筆縣市資料\")"
   ]
  },
  {
   "cell_type": "code",
   "execution_count": null,
   "id": "8d9d19af",
   "metadata": {},
   "outputs": [],
   "source": [
    "# 依上述網址向實價登錄網站請求資料\n",
    "raw_ps_transaction_df = combined_df(urls, \"20250801\")"
   ]
  },
  {
   "cell_type": "code",
   "execution_count": null,
   "id": "de3f8b24",
   "metadata": {},
   "outputs": [],
   "source": [
    "# 儲存原始資料\n",
    "output_dir = r\"C:\\pylabs\\housing-market-insights\\data\\lvr_moi\\ps_transaction\\raw\"\n",
    "os.makedirs(output_dir, exist_ok=True)\n",
    "\n",
    "csv_fn = \"raw_ps_transaction_20250801.csv\"\n",
    "out_path = os.path.join(output_dir,  csv_fn)\n",
    "raw_ps_transaction_df.to_csv(out_path, index=False, encoding='utf-8-sig')"
   ]
  },
  {
   "cell_type": "markdown",
   "id": "fe6e2e46",
   "metadata": {},
   "source": [
    "## 載入原始資料並進行後續資料清洗\n",
    "- function：csv_extractor(csv載入)"
   ]
  },
  {
   "cell_type": "code",
   "execution_count": null,
   "id": "b95c20c4",
   "metadata": {},
   "outputs": [],
   "source": [
    "input_dir = r\"C:\\pylabs\\housing-market-insights\\data\\lvr_moi\\ps_transaction\\raw\"\n",
    "csv_fn = \"raw_ps_transaction_20250801.csv\"\n",
    "input_path = os.path.join(input_dir,  csv_fn)"
   ]
  },
  {
   "cell_type": "code",
   "execution_count": null,
   "id": "ea1463b6",
   "metadata": {},
   "outputs": [],
   "source": [
    "# 載入原始預售屋社區資料\n",
    "extracted =csv_extractor(input_path)\n",
    "print(f\" 逐筆交易資料載入成功: {extracted.shape}  記憶體使用: {extracted.memory_usage(deep=True).sum() / 1024**2:.2f} MB\")\n",
    "# 欄位名稱轉換\n",
    "extracted = extracted.rename(columns=PRE_SALE_COLUMN_NAME, inplace=False)\n",
    "extracted.sample(10)"
   ]
  },
  {
   "cell_type": "markdown",
   "id": "b792229c",
   "metadata": {},
   "source": [
    "### 資料整理\n",
    "- 欄位名稱轉換\n",
    "- 新增行政區欄位(parse_admin_region)"
   ]
  },
  {
   "cell_type": "code",
   "execution_count": null,
   "id": "0ff75888",
   "metadata": {},
   "outputs": [],
   "source": [
    "proc_df = extracted.copy()"
   ]
  },
  {
   "cell_type": "code",
   "execution_count": null,
   "id": "84a489e9",
   "metadata": {},
   "outputs": [],
   "source": [
    "proc_df.columns"
   ]
  },
  {
   "cell_type": "code",
   "execution_count": null,
   "id": "11005070",
   "metadata": {},
   "outputs": [],
   "source": [
    "# 新增行政區欄位\n",
    "proc_df[\"行政區\"] = proc_df[\"坐落街道\"].apply(parse_admin_region)\n",
    "\n",
    "# 建物單價單位轉換為(萬/坪)\n",
    "# 去掉千分位逗號，再轉 float\n",
    "proc_df['建物單價(萬/坪)'] = (\n",
    "    proc_df['建物單價']\n",
    "    .str.replace(',', '', regex=True)   # 移除逗號\n",
    "    .astype(float) / 10000    # 換算 萬/坪\n",
    ").round(2)\n",
    "\n",
    "# 交物總價單位轉換為萬\n",
    "proc_df['交易總價(萬元)'] = (\n",
    "    proc_df['交易總價']\n",
    "    .str.replace(',', '', regex=True)\n",
    "    .astype(int) / 10000\n",
    ").round(0)\n"
   ]
  },
  {
   "cell_type": "code",
   "execution_count": null,
   "id": "a7ef22a8",
   "metadata": {},
   "outputs": [],
   "source": [
    "# 日期欄位轉換\n",
    "# 民國整數欄位 roc_integer_cols\n",
    "# 民國斜線欄位（交易資料表）roc_slash_cols\n",
    "# 西元欄位ad_cols\n",
    "proc_df = convert_mixed_date_columns(\n",
    "    proc_df,\n",
    "    roc_slash_cols=['交易日期'],\n",
    "    ad_cols=['匯入時間']\n",
    ")"
   ]
  },
  {
   "cell_type": "code",
   "execution_count": null,
   "id": "f09425d8",
   "metadata": {},
   "outputs": [],
   "source": [
    "proc_df.loc[:,['總面積', '建物單價']]\n",
    "proc_df[['總面積', '建物單價(萬/坪)', '交易總價(萬元)', '車位總價', '交易日期']]"
   ]
  },
  {
   "cell_type": "code",
   "execution_count": null,
   "id": "2900301d",
   "metadata": {},
   "outputs": [],
   "source": [
    "proc_df.columns"
   ]
  },
  {
   "cell_type": "code",
   "execution_count": null,
   "id": "4dd2d539",
   "metadata": {},
   "outputs": [],
   "source": [
    "# 儲存資料\n",
    "output_dir = r\"C:\\pylabs\\housing-market-insights\\data\\lvr_moi\\ps_transaction\\processed\"\n",
    "os.makedirs(output_dir, exist_ok=True)\n",
    "\n",
    "csv_fn = \"ps_transaction_processed.csv\"\n",
    "out_path = os.path.join(output_dir,  csv_fn)\n",
    "proc_df.to_csv(out_path, index=False, encoding='utf-8-sig')"
   ]
  },
  {
   "cell_type": "markdown",
   "id": "409f9b10",
   "metadata": {},
   "source": [
    "## 製作測試資料"
   ]
  },
  {
   "cell_type": "code",
   "execution_count": 3,
   "id": "31aaf2e4",
   "metadata": {},
   "outputs": [],
   "source": [
    "# 製作小型測試檔\n",
    "raw_input_dir = r\"C:\\pylabs\\housing-market-insights\\data\\lvr_moi\\ps_transaction\\processed\"\n",
    "raw_fn = \"ps_transaction_processed.csv\"\n",
    "raw_data_path = os.path.join(raw_input_dir,  raw_fn)\n",
    "\n",
    "test_output_dir = r\"C:\\pylabs\\housing-market-insights\\data\\lvr_moi\\ps_transaction\\temp\"\n",
    "os.makedirs(test_output_dir, exist_ok=True)\n",
    "test_fn = \"ps_transection_sample.csv\"\n",
    "test_data_path = os.path.join(test_output_dir,  test_fn)"
   ]
  },
  {
   "cell_type": "code",
   "execution_count": 5,
   "id": "ca51cbeb",
   "metadata": {},
   "outputs": [
    {
     "name": "stdout",
     "output_type": "stream",
     "text": [
      " 讀取檔案中：C:\\pylabs\\housing-market-insights\\data\\lvr_moi\\ps_transaction\\processed\\ps_transaction_processed.csv\n",
      " 平均每列大小：約 2339.83 bytes\n",
      " 目標大小：40MB ≈ 17925 筆資料\n",
      " 已儲存檔案：C:\\pylabs\\housing-market-insights\\data\\lvr_moi\\ps_transaction\\temp\\ps_transection_sample.csv，實際大小約 7.97 MB\n"
     ]
    }
   ],
   "source": [
    "sampled = sample_csv_to_target_size(\n",
    "    input_path=raw_data_path,\n",
    "    output_path=test_data_path,\n",
    "    target_mb=40\n",
    ")"
   ]
  }
 ],
 "metadata": {
  "kernelspec": {
   "display_name": "housing-market-insights",
   "language": "python",
   "name": "python3"
  },
  "language_info": {
   "codemirror_mode": {
    "name": "ipython",
    "version": 3
   },
   "file_extension": ".py",
   "mimetype": "text/x-python",
   "name": "python",
   "nbconvert_exporter": "python",
   "pygments_lexer": "ipython3",
   "version": "3.11.13"
  }
 },
 "nbformat": 4,
 "nbformat_minor": 5
}
