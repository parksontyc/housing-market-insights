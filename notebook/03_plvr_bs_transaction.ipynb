{
 "cells": [
  {
   "cell_type": "markdown",
   "id": "1b6d270e",
   "metadata": {},
   "source": [
    "# 實價買賣資料\n",
    "## 處理事項\n",
    "- 由實價登錄網站抓取預售買賣資料，每月更新，更新時間同預售屋社區資料\n",
    "- 資料清洗"
   ]
  },
  {
   "cell_type": "code",
   "execution_count": null,
   "id": "b16b4be7",
   "metadata": {},
   "outputs": [],
   "source": [
    "import os\n",
    "import re\n",
    "import time\n",
    "import datetime\n",
    "from typing import Generator, List, Any, Literal\n",
    "import pandas as pd\n",
    "import requests\n",
    "from tqdm import tqdm\n",
    "from IPython.display import display\n",
    "import warnings\n",
    "warnings.filterwarnings('ignore')\n",
    "\n",
    "import sys\n",
    "from pathlib import Path\n",
    "project_root = Path.cwd().parent  # 找出根目錄：Path.cwd()找出現在所在目錄(/run).parent(上一層是notebook).parent(再上層一層business_district_discovery)\n",
    "print(project_root)\n",
    "sys.path.append(str(project_root))"
   ]
  },
  {
   "cell_type": "code",
   "execution_count": null,
   "id": "56620b84",
   "metadata": {},
   "outputs": [],
   "source": [
    "from utils.configs import SALE_BASE_URL, SALE_URLS_FRAGMENTS\n",
    "from utils.helper_function import build_complete_urls, combined_df, csv_extractor"
   ]
  },
  {
   "cell_type": "markdown",
   "id": "c655af67",
   "metadata": {},
   "source": [
    "## 從實價登錄網站取得實價買賣資料\n",
    "- function\n",
    "    - build_complete_url(網址組合)、fetch_data(向實價網址請求資料)、combined_df(合併全台預售屋資料)"
   ]
  },
  {
   "cell_type": "code",
   "execution_count": null,
   "id": "c603af30",
   "metadata": {},
   "outputs": [],
   "source": [
    "# 組合「實價買賣」網址\n",
    "urls = build_complete_urls(SALE_BASE_URL, SALE_URLS_FRAGMENTS)\n",
    "for idx, (city, link) in enumerate(urls.items(), start=1):\n",
    "    print(f\"{idx}. {city} → {link}\")\n",
    "\n",
    "print(f\"\\n總共有 {len(urls)} 筆縣市資料\")"
   ]
  },
  {
   "cell_type": "code",
   "execution_count": null,
   "id": "f2f8a64e",
   "metadata": {},
   "outputs": [],
   "source": [
    "# 依上述網址向實價登錄網站請求資料\n",
    "raw_bs_transaction_df = combined_df(urls, \"20250801\")"
   ]
  },
  {
   "cell_type": "code",
   "execution_count": null,
   "id": "71290f99",
   "metadata": {},
   "outputs": [],
   "source": [
    "# 儲存原始資料\n",
    "output_dir = r\"C:\\pylabs\\housing-market-insights\\data\\lvr_moi\\bs_transaction\\raw\"\n",
    "os.makedirs(output_dir, exist_ok=True)\n",
    "\n",
    "csv_fn = \"raw_bs_transaction_20250801.csv\"\n",
    "out_path = os.path.join(output_dir,  csv_fn)\n",
    "raw_bs_transaction_df.to_csv(out_path, index=False, encoding='utf-8-sig')"
   ]
  },
  {
   "cell_type": "markdown",
   "id": "62b166d6",
   "metadata": {},
   "source": [
    "## 載入原始資料並進行後續資料清洗\n",
    "- function：csv_extractor(csv載入)"
   ]
  },
  {
   "cell_type": "code",
   "execution_count": null,
   "id": "f59a03da",
   "metadata": {},
   "outputs": [],
   "source": [
    "input_dir = r\"C:\\pylabs\\housing-market-insights\\data\\lvr_moi\\bs_transaction\\raw\"\n",
    "csv_fn = \"raw_bs_transaction_20250801.csv\"\n",
    "input_path = os.path.join(input_dir,  csv_fn)"
   ]
  },
  {
   "cell_type": "code",
   "execution_count": null,
   "id": "b1cf6e18",
   "metadata": {},
   "outputs": [],
   "source": [
    "# 載入原始預售屋社區資料\n",
    "extracted =csv_extractor(input_path)\n",
    "print(f\" 逐筆交易資料載入成功: {extracted.shape}  記憶體使用: {extracted.memory_usage(deep=True).sum() / 1024**2:.2f} MB\")\n",
    "extracted"
   ]
  }
 ],
 "metadata": {
  "kernelspec": {
   "display_name": "housing-market-insights",
   "language": "python",
   "name": "python3"
  },
  "language_info": {
   "codemirror_mode": {
    "name": "ipython",
    "version": 3
   },
   "file_extension": ".py",
   "mimetype": "text/x-python",
   "name": "python",
   "nbconvert_exporter": "python",
   "pygments_lexer": "ipython3",
   "version": "3.11.13"
  }
 },
 "nbformat": 4,
 "nbformat_minor": 5
}
